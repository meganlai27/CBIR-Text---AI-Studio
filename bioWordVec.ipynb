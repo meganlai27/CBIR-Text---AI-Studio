{
 "cells": [
  {
   "cell_type": "code",
   "execution_count": null,
   "metadata": {},
   "outputs": [],
   "source": [
    "from gensim.models import KeyedVectors\n",
    "\n",
    "model_path = \"./BioWordVec_PubMed_MIMICIII_d200.vec.bin\"  # Adjust with your actual model path\n",
    "model = KeyedVectors.load_word2vec_format(model_path, binary=True)\n",
    "\n",
    "# Ensure the model is loaded successfully\n",
    "# print(f\"Model loaded with {len(model.)} words.\")"
   ]
  },
  {
   "cell_type": "code",
   "execution_count": 33,
   "metadata": {},
   "outputs": [],
   "source": [
    "import torch\n",
    "import torch.nn.functional as F\n",
    "from torch.nn import CosineSimilarity\n",
    "import numpy as np\n",
    "def cos_sim(v1, v2):\n",
    "  result = F.cosine_similarity(torch.tensor(v1), torch.tensor(v2))\n",
    "  # print(result)\n",
    "  return result"
   ]
  },
  {
   "cell_type": "code",
   "execution_count": 3,
   "metadata": {},
   "outputs": [
    {
     "name": "stdout",
     "output_type": "stream",
     "text": [
      "Embedding for the word 'protein':\n",
      "[ 4.4704e-01  1.8076e-01  8.6735e-01  6.7001e-02 -4.8165e-01 -6.2037e-01\n",
      " -1.8275e-01  3.0729e-01  3.2027e-01 -2.2401e-01 -1.3701e-01  2.2416e-01\n",
      "  7.2142e-01 -1.1871e-03 -1.0258e-01 -7.3247e-01  4.1443e-01 -9.8278e-02\n",
      "  3.2357e-01  6.7787e-01  6.9596e-01 -1.0727e-01 -6.6093e-01 -3.7702e-01\n",
      "  3.2027e-01  6.5092e-01 -2.2182e-01  6.5816e-02 -4.5479e-02 -1.9672e-01\n",
      "  2.0929e-01 -4.0790e-01 -4.5215e-01 -3.3969e-01 -3.1260e-02 -1.8062e-01\n",
      "  7.3161e-01 -4.9494e-01  3.9948e-01  2.0782e-01  1.4276e-01 -1.3005e-01\n",
      "  3.8340e-01  6.3731e-02 -4.9362e-02 -8.4505e-02  3.7509e-01 -5.8763e-02\n",
      "  2.2580e-01  4.9091e-01 -1.7904e-01 -7.0334e-01 -4.8619e-01 -3.1223e-02\n",
      "  2.1162e-01 -2.9122e-01 -1.1811e-01 -3.6572e-01 -9.9462e-01 -3.7253e-01\n",
      "  2.1836e-01 -3.9879e-01  3.0490e-01 -7.5495e-02  3.8072e-02  9.6447e-02\n",
      " -3.8790e-01  3.6653e-01  3.4271e-01  5.7187e-01 -2.8393e-01 -1.7507e-02\n",
      " -4.1364e-01  2.1928e-01  2.5078e-01 -1.8232e-01 -3.7845e-01 -3.1980e-01\n",
      " -5.6580e-01  3.3489e-01  2.6078e-01 -2.1076e-01  6.0953e-03 -2.2900e-01\n",
      " -3.1931e-01 -3.8528e-01  1.4092e-01  8.4119e-02  5.0964e-02 -5.6292e-01\n",
      " -8.9811e-02  3.8673e-01  5.2238e-02 -4.4137e-01 -1.5599e-01 -6.3155e-01\n",
      " -2.9690e-01 -4.6882e-01  4.5683e-01  4.1214e-01  1.7143e-02  5.2427e-01\n",
      " -4.9356e-01 -2.9408e-01 -8.3904e-01  3.2118e-01 -2.8629e-01  6.7670e-01\n",
      "  1.0599e-01  5.3736e-02 -2.3683e-03  5.9590e-01  5.9178e-02 -3.8223e-01\n",
      "  1.2171e-01 -1.4015e-01 -5.6178e-01  1.8153e-01 -5.1874e-01 -6.2871e-01\n",
      " -9.0315e-02 -7.4614e-02 -3.7383e-01 -1.4527e-01  2.6567e-01 -2.0168e-01\n",
      "  5.7235e-01  2.2171e-01  1.8704e-01 -8.0221e-01  2.6106e-01 -3.2681e-01\n",
      " -3.2400e-01 -5.2935e-01  6.1495e-01  2.8000e-01  5.5063e-01  1.0510e-01\n",
      " -7.4959e-02 -3.9389e-01  4.2313e-01  6.3423e-01 -2.7744e-01  1.2408e+00\n",
      "  6.3280e-02  1.3580e-01  7.8872e-01 -4.5822e-01  3.6025e-01  2.2982e-01\n",
      "  4.8257e-01  5.3473e-01 -8.0576e-01 -3.3173e-02  1.0814e-01 -4.0482e-01\n",
      "  1.1570e-02 -8.0073e-01  8.4143e-01 -1.8297e-01  2.2703e-02 -3.3097e-01\n",
      " -1.0857e-02  4.9631e-01  6.4814e-01 -3.4621e-01  2.0852e-01  2.0198e-01\n",
      " -4.7347e-01 -5.7005e-01 -4.3530e-02 -8.5535e-02 -2.2039e-01  5.4265e-01\n",
      "  4.7224e-02  4.0711e-01 -5.7097e-01 -2.0991e-01 -1.4115e-01 -6.2461e-01\n",
      "  2.1479e-01  3.5811e-01  1.6857e-01 -2.0789e-01  2.4067e-01 -2.0872e-01\n",
      "  3.1473e-02 -2.6430e-01 -1.9466e-02  2.4755e-01  5.9311e-01 -3.5681e-01\n",
      "  3.5621e-01 -1.0390e-01 -9.8651e-02  2.5801e-01  2.0964e-01  1.0048e-01\n",
      "  6.3318e-02 -2.3943e-01]\n"
     ]
    }
   ],
   "source": [
    "# Get the embedding for a specific word\n",
    "word = \"protein\"  # Example word\n",
    "embedding = model[word]\n",
    "\n",
    "print(f\"Embedding for the word '{word}':\\n{embedding}\")"
   ]
  },
  {
   "cell_type": "code",
   "execution_count": null,
   "metadata": {},
   "outputs": [
    {
     "ename": "IndexError",
     "evalue": "Dimension out of range (expected to be in range of [-1, 0], but got 1)",
     "output_type": "error",
     "traceback": [
      "\u001b[1;31m---------------------------------------------------------------------------\u001b[0m",
      "\u001b[1;31mIndexError\u001b[0m                                Traceback (most recent call last)",
      "Cell \u001b[1;32mIn[4], line 4\u001b[0m\n\u001b[0;32m      1\u001b[0m basophilia \u001b[38;5;241m=\u001b[39m model[\u001b[38;5;124m\"\u001b[39m\u001b[38;5;124mbasophilia\u001b[39m\u001b[38;5;124m\"\u001b[39m]\n\u001b[0;32m      2\u001b[0m basophilic \u001b[38;5;241m=\u001b[39m model[\u001b[38;5;124m\"\u001b[39m\u001b[38;5;124mbasophilic\u001b[39m\u001b[38;5;124m\"\u001b[39m]\n\u001b[1;32m----> 4\u001b[0m \u001b[38;5;28meval\u001b[39m \u001b[38;5;241m=\u001b[39m \u001b[43mcos_sim\u001b[49m\u001b[43m(\u001b[49m\u001b[43mbasophilia\u001b[49m\u001b[43m,\u001b[49m\u001b[43m \u001b[49m\u001b[43mbasophilic\u001b[49m\u001b[43m)\u001b[49m\n\u001b[0;32m      6\u001b[0m \u001b[38;5;66;03m# model.cosine_similarities(basophilia, basophilic)\u001b[39;00m\n",
      "Cell \u001b[1;32mIn[3], line 5\u001b[0m, in \u001b[0;36mcos_sim\u001b[1;34m(v1, v2)\u001b[0m\n\u001b[0;32m      4\u001b[0m \u001b[38;5;28;01mdef\u001b[39;00m \u001b[38;5;21mcos_sim\u001b[39m(v1, v2):\n\u001b[1;32m----> 5\u001b[0m   result \u001b[38;5;241m=\u001b[39m \u001b[43mF\u001b[49m\u001b[38;5;241;43m.\u001b[39;49m\u001b[43mcosine_similarity\u001b[49m\u001b[43m(\u001b[49m\u001b[43mtorch\u001b[49m\u001b[38;5;241;43m.\u001b[39;49m\u001b[43mtensor\u001b[49m\u001b[43m(\u001b[49m\u001b[43mv1\u001b[49m\u001b[43m)\u001b[49m\u001b[43m,\u001b[49m\u001b[43m \u001b[49m\u001b[43mtorch\u001b[49m\u001b[38;5;241;43m.\u001b[39;49m\u001b[43mtensor\u001b[49m\u001b[43m(\u001b[49m\u001b[43mv2\u001b[49m\u001b[43m)\u001b[49m\u001b[43m)\u001b[49m\n\u001b[0;32m      6\u001b[0m   \u001b[38;5;66;03m# print(result)\u001b[39;00m\n\u001b[0;32m      7\u001b[0m   \u001b[38;5;28;01mreturn\u001b[39;00m result\n",
      "\u001b[1;31mIndexError\u001b[0m: Dimension out of range (expected to be in range of [-1, 0], but got 1)"
     ]
    }
   ],
   "source": [
    "basophilia = model[\"basophilia\"]\n",
    "basophilic = model[\"basophilic\"]\n",
    "\n",
    "eval = cos_sim(basophilia, basophilic)\n",
    "\n",
    "# model.cosine_similarities(basophilia, basophilic)"
   ]
  },
  {
   "cell_type": "code",
   "execution_count": 9,
   "metadata": {},
   "outputs": [
    {
     "name": "stdout",
     "output_type": "stream",
     "text": [
      "(200,)\n",
      "(200,)\n",
      "tensor([0.8547])\n"
     ]
    }
   ],
   "source": [
    "print(basophilic.shape)\n",
    "print(basophilia.shape)\n",
    "\n",
    "\n",
    "eval = cos_sim([basophilia], [basophilic])\n",
    "print(eval)\n"
   ]
  },
  {
   "cell_type": "code",
   "execution_count": 11,
   "metadata": {},
   "outputs": [
    {
     "name": "stdout",
     "output_type": "stream",
     "text": [
      "(200,)\n",
      "(200,)\n",
      "tensor([0.3826])\n",
      "tensor([0.8950])\n"
     ]
    }
   ],
   "source": [
    "carcinoma = model[\"carcinoma\"]\n",
    "adenocarcinoma = model[\"adenocarcinoma\"]\n",
    "print(basophilic.shape)\n",
    "print(carcinoma.shape)\n",
    "\n",
    "\n",
    "eval1 = cos_sim([carcinoma], [basophilic])\n",
    "eval2 = cos_sim([carcinoma], [adenocarcinoma])\n",
    "print(eval1)\n",
    "print(eval2)"
   ]
  },
  {
   "cell_type": "code",
   "execution_count": 16,
   "metadata": {},
   "outputs": [
    {
     "name": "stdout",
     "output_type": "stream",
     "text": [
      "Embedding for the phrase 'Ceruminous adenocarcinoma':\n",
      "[ 0.51585    0.53905    0.2443     0.23956   -0.11298    0.22219\n",
      " -0.27644    0.34779    0.87868    0.35403   -0.31235   -0.17645\n",
      " -0.27524   -0.13414    0.11918   -0.31269   -0.24926   -0.32701\n",
      "  0.60018   -0.2429    -0.05698    0.14091   -0.30133   -0.17258\n",
      " -0.78054    0.5265    -0.27129    0.066273   0.26707    0.37336\n",
      "  0.17634    0.69773   -0.66963   -0.41516    0.42741    0.33867\n",
      "  0.56646   -0.19522    0.17185    1.2266    -0.42291    0.50689\n",
      " -0.071885   0.33924   -0.85992    0.37238    0.72846   -0.099617\n",
      " -0.10513    0.55338    0.18113    0.05661   -0.21566   -0.13958\n",
      "  0.11894    0.20787    0.07281    0.45769   -0.77909   -0.089732\n",
      " -0.55057   -0.32536   -0.15394    0.27098    1.2215     0.61133\n",
      "  0.040885   0.51772    0.11262    0.63312   -0.39421    0.46282\n",
      "  0.32291   -0.19825   -0.33999   -0.67637   -0.066328   0.5223\n",
      " -0.1883    -0.22241    0.19152   -0.38719   -0.2166     0.34379\n",
      " -0.5327    -0.019113  -0.30855   -0.55086    0.13284    0.30432\n",
      "  0.61175    0.53574    0.77218   -0.6515    -0.35894   -0.49625\n",
      "  0.34407    0.55493    0.35068    0.10618    0.28655    0.39053\n",
      " -0.38902    0.13291   -0.72787    0.023877  -0.24758    0.48553\n",
      "  0.32556   -0.012926  -0.53071   -0.21699    0.10686    0.12773\n",
      "  0.3666     0.30236    0.74401    0.099078  -0.34178   -0.35687\n",
      "  0.46148    0.1784    -0.65294    0.67998    0.59289   -0.34014\n",
      "  0.11286    0.14606   -0.33983    0.11943    0.2412     0.31988\n",
      " -0.050468  -0.32263   -0.95494   -0.48093    0.46055    0.88404\n",
      "  0.0075551  0.23044   -0.063451   0.84599    0.2035     0.32672\n",
      "  0.24997    0.27535    0.68036   -0.0045712  0.39739   -0.58744\n",
      "  0.2188    -0.19718    0.40951   -0.17361   -0.063681  -0.31587\n",
      " -0.28426   -0.23027   -0.083652   0.085238   0.31998   -0.23733\n",
      "  0.51371    0.31269    0.19502   -0.33287    0.29659    0.081128\n",
      " -0.47784   -0.66444    0.11306   -0.092161   0.58739    1.0292\n",
      "  1.2063     0.54687   -0.44527   -0.53275    0.37409   -0.017783\n",
      " -0.24196   -0.17988   -0.35472    0.47629    0.71724   -0.1168\n",
      " -0.52847    0.90482    0.10324   -0.49453   -0.12111    0.053597\n",
      "  0.05826    0.63173   -0.62473   -0.44059   -0.21362    0.30981\n",
      " -0.078878  -0.57631  ]\n",
      "Embedding for the phrase 'Ceruminous adenoid cystic carcinoma':\n",
      "[ 0.12336334  0.61984664 -0.28120068  0.26110002 -0.02920534 -0.03906533\n",
      " -0.4066533   0.19063699  0.74556994  0.28442633 -0.21060334  0.003819\n",
      "  0.20465     0.30040333 -0.13009334 -0.05809866 -0.12315    -0.5877733\n",
      "  0.17960668 -0.12138266 -0.37836668  0.13874    -0.23526567  0.080047\n",
      " -0.41931435  0.51715    -0.40223202  0.13498333  0.08886067  0.04870166\n",
      "  0.20099999  0.64218664 -0.00864566 -0.5780867   0.221135    0.17272334\n",
      "  0.84587     0.04935866 -0.24932833  0.30188966 -0.28422034  0.44349667\n",
      "  0.06468     0.21399666  0.05248     0.42352     0.64710003 -0.42125\n",
      " -0.43720338  0.13201334  0.116474    0.40021    -0.4185927   0.14532293\n",
      " -0.11175353  0.13173999 -0.00517477  0.21012    -1.0204767   0.10201667\n",
      " -0.33432332  0.42035866 -0.116826    0.129782    0.71398336  0.36567333\n",
      "  0.12090901  0.36961302 -0.03620799  0.7411     -0.5067434   0.6196633\n",
      "  0.242815    0.05625467 -0.31409335 -0.6655367  -0.28847432  0.76101667\n",
      "  0.14091134 -0.03786467  0.13083267 -0.5370733   0.3878      0.06831807\n",
      " -0.50596666  0.32749167 -0.23879565 -0.5726467   0.100439    0.00472433\n",
      "  0.66905     0.34539     0.48810205 -0.31770334 -0.05692    -0.33031568\n",
      "  0.5999667  -0.04344733  0.31741002 -0.09544333  0.11243167  0.5387266\n",
      " -0.20995866 -0.17519599 -0.5590233  -0.226992   -0.6301833   0.5614733\n",
      "  0.16422999 -0.31872034 -0.58686     0.44604668  0.28105333 -0.07799333\n",
      " -0.22691333 -0.01130343  0.24162666 -0.17474033 -0.64015    -0.25103\n",
      "  0.07511973  0.16002567 -0.7937367   0.62377     0.25467333 -0.20283334\n",
      "  0.44540998 -0.02861967 -0.39375332 -0.33813334 -0.03369434  0.15278025\n",
      "  0.33535576 -0.27289668 -0.7937533  -0.5913567   0.47904333  0.5539467\n",
      " -0.02016667 -0.17632733  0.13104169  0.55473    -0.00308166  0.14523633\n",
      "  0.26834333  0.22980666  0.9690034  -0.43356565  0.13893665 -0.5915666\n",
      "  0.22313333  0.2738987   0.5308167  -0.04817533  0.02518667 -0.35475668\n",
      " -0.36953998 -0.05106     0.03259667  0.2889      0.02131667 -0.0403\n",
      "  0.18308665  0.22066998  0.36020336 -0.37027335  0.16071801  0.33242333\n",
      " -0.27260998 -0.44558334  0.114688    0.2707567   0.3553567   0.7762367\n",
      "  0.8093067   0.42069003 -0.15710668 -0.23314266  0.12263999 -0.626474\n",
      " -0.108107   -0.135121   -0.19144666  0.25831333  0.24088    -0.26629934\n",
      " -0.35358667  0.53426003 -0.18480308 -0.28449667  0.10666666 -0.05739133\n",
      " -0.17088835  0.59577    -0.33743235 -0.34225333  0.00692     0.61269337\n",
      " -0.18563335 -0.33775005]\n",
      "Embedding for the phrase 'Ceruminous adenocarcinoma, NOS. An intact surface epithelium is subtended by an infiltrating biphasic neoplastic proliferation separated by dense fibrosis':\n",
      "[ 0.11716125  0.22035958 -0.08616788  0.11814017 -0.21407184  0.06861326\n",
      " -0.3602628   0.12230913  0.31334144 -0.01104593 -0.4489674  -0.029345\n",
      "  0.25687376  0.1749722  -0.0705118  -0.23198992 -0.21684854 -0.3212294\n",
      " -0.04527766  0.04848212  0.18929142  0.03166791 -0.46793598 -0.14608578\n",
      "  0.23833507  0.27700445 -0.09915379  0.21829309  0.08656246  0.17689773\n",
      "  0.09300481 -0.10429613 -0.38147312 -0.24720542 -0.21779342 -0.04376396\n",
      "  0.5367205  -0.2186594   0.01177624  0.18837854 -0.12497319  0.25453627\n",
      "  0.05667157  0.20660625  0.16184467 -0.06203134  0.14866848  0.07076799\n",
      " -0.2787378   0.0997688  -0.00861267 -0.1132702  -0.5049163  -0.24107829\n",
      " -0.39427233 -0.18750209  0.00898633  0.09854795 -0.53297466 -0.10735168\n",
      " -0.08587071  0.13949531  0.29008347  0.05457245  0.4442653   0.14933349\n",
      "  0.01074627  0.01152282  0.5185228   0.33640337 -0.22028571 -0.00306305\n",
      "  0.06418486 -0.04830786 -0.2187476   0.02352741 -0.26924828  0.51008236\n",
      " -0.00750147  0.1858532   0.17548473 -0.22786255  0.1973184  -0.3995934\n",
      " -0.35475126  0.02339087  0.00149966  0.00220373 -0.32378143 -0.28358787\n",
      "  0.34837425 -0.04624826 -0.05622587 -0.17360847  0.00550775 -0.23827887\n",
      " -0.002234    0.08078127  0.15527704  0.05658154  0.24044247  0.270192\n",
      " -0.21985768 -0.06309114 -0.34374306  0.25409356 -0.5572288   0.08324867\n",
      "  0.07057324 -0.20238382  0.0807384   0.40246576  0.02804407  0.00093653\n",
      "  0.06465293 -0.05743674 -0.13223766 -0.03784347 -0.38738188 -0.38623434\n",
      "  0.15179712  0.11403432 -0.2821809   0.098343   -0.02397353 -0.28798598\n",
      "  0.2973309   0.13294113 -0.14610499 -0.19656199  0.2139868  -0.0825558\n",
      "  0.06089267 -0.31094047 -0.19781329 -0.29522857 -0.06257746  0.31477818\n",
      "  0.1559005   0.21521269  0.19410868  0.22083953  0.13437253  0.34296238\n",
      " -0.09106985 -0.26693386  0.63318866 -0.39520338  0.04612141 -0.18318993\n",
      "  0.28140852 -0.10159966  0.08610781 -0.17171781 -0.19430389 -0.13812406\n",
      " -0.15838885 -0.2576471   0.3151829  -0.02538207 -0.21189645 -0.17692442\n",
      "  0.40402493  0.42170733  0.10626009 -0.3844455  -0.0251085   0.08245847\n",
      " -0.13840853 -0.18840687  0.11481552  0.23832671 -0.2971667   0.7805687\n",
      "  0.41349927  0.17511712 -0.14294676 -0.03677208  0.04085319 -0.48335105\n",
      " -0.1134591   0.10033026  0.1878018  -0.17701767  0.14231539 -0.22293703\n",
      "  0.05702765  0.13961369 -0.00339567 -0.1976252  -0.09331613 -0.32842675\n",
      "  0.24538645  0.3532573  -0.15271737 -0.01377714 -0.02781595  0.22752617\n",
      " -0.14803146 -0.54025334]\n",
      "Embedding for the phrase 'Immunohistochemical staining with anti-papillomavirus antibody 16/18 reveals strong nuclear staining in numerous cells (10x)':\n",
      "[ 5.60171716e-02  3.12162071e-01  1.32689655e-01  3.71390842e-02\n",
      " -4.01577830e-01 -1.17000915e-01 -2.55365819e-01 -5.88135154e-04\n",
      "  2.79401600e-01  1.55686783e-02 -2.51434177e-01  3.21218818e-01\n",
      "  3.29562455e-01  7.41873309e-02 -8.36994275e-02 -1.05756007e-01\n",
      " -2.14363243e-02 -2.81835347e-01  1.91407993e-01  3.10503572e-01\n",
      "  4.91979159e-02  2.64821593e-02 -2.00283512e-01 -3.89056176e-01\n",
      "  1.98161498e-01  3.43714148e-01 -4.10880037e-02  2.48131916e-01\n",
      "  2.56903172e-01  4.54415046e-02  1.01645440e-02 -2.17919070e-02\n",
      " -2.06294373e-01 -2.93182582e-01 -8.56508315e-02  3.04010045e-02\n",
      "  6.76943839e-01 -1.62708580e-01  4.97148372e-02  2.03497902e-01\n",
      " -5.02505004e-02  5.18734276e-01 -1.23191603e-01  1.61546677e-01\n",
      "  1.74499586e-01 -7.35072866e-02  3.50527555e-01 -2.35186126e-02\n",
      " -2.74758428e-01  2.25167200e-01 -2.69488320e-02 -2.74916994e-03\n",
      " -5.96668363e-01 -2.25419924e-01 -5.09728432e-01 -1.56459495e-01\n",
      " -7.71244168e-02 -1.11073935e-02 -4.38543767e-01 -3.28265578e-01\n",
      "  2.97421068e-02  2.60399729e-01  8.42409357e-02  1.78828284e-01\n",
      "  3.61835003e-01  3.62475306e-01 -1.21054344e-01  5.30683398e-02\n",
      "  4.55648631e-01  3.69742513e-01 -2.48047411e-01 -2.59728339e-02\n",
      "  2.00223520e-01  9.25033316e-02 -6.23258539e-02 -1.23144835e-01\n",
      " -4.28460836e-01  1.37386575e-01  5.57182729e-03  1.18659817e-01\n",
      "  2.58896500e-01 -2.23087464e-02  1.30264506e-01 -5.64788282e-02\n",
      " -4.33062881e-01 -2.87743181e-01 -9.80308186e-03 -1.22830592e-01\n",
      " -6.22494936e-01 -2.45889172e-01  3.35178345e-01  4.67627533e-02\n",
      "  1.77768424e-01 -1.76162854e-01 -1.17095403e-01 -2.87195832e-01\n",
      " -4.28535827e-02 -1.72148366e-02  4.39258337e-01 -4.61918302e-02\n",
      "  1.04012750e-01  1.59959659e-01  1.25010848e-01  2.13097930e-02\n",
      " -1.44590497e-01  2.84613371e-01 -3.14377755e-01  1.28805667e-01\n",
      "  2.17298761e-01 -2.51378566e-01 -1.66548386e-01  2.59504408e-01\n",
      "  1.35476828e-01  7.22634196e-02 -1.27137586e-01 -8.10554922e-02\n",
      " -2.04944834e-01  2.89964136e-02 -3.41022730e-01 -3.63734156e-01\n",
      "  2.13764668e-01  2.93428421e-01 -2.24123254e-01 -6.18386678e-02\n",
      " -2.05807760e-03 -3.67715806e-01  3.33547592e-01  1.76602289e-01\n",
      " -1.72845662e-01 -1.59587517e-01  1.28902063e-01 -4.11157727e-01\n",
      " -4.14687902e-01 -1.00064777e-01 -1.16368078e-01 -1.96609393e-01\n",
      "  6.81475028e-02  2.22652078e-01 -2.66535860e-02  1.40910834e-01\n",
      "  2.38934860e-01  3.36713225e-01 -3.08432486e-02  5.01737475e-01\n",
      "  4.35973443e-02 -2.38806486e-01  6.87355757e-01 -2.62440234e-01\n",
      "  1.24457836e-01 -6.29105046e-02  6.08124197e-01 -5.76605797e-02\n",
      "  3.06873351e-01  5.00100069e-02 -1.94186673e-01  3.49264778e-02\n",
      " -2.52868980e-01 -3.89469713e-01  3.53355855e-01  3.28967124e-02\n",
      " -3.08233332e-02 -3.11502486e-01  4.12749171e-01  4.75443929e-01\n",
      "  1.97966561e-01 -4.23979849e-01  5.64461797e-02  4.25483324e-02\n",
      " -1.30517423e-01 -5.21679997e-01 -2.13085666e-01 -1.28404126e-02\n",
      " -3.79655838e-01  7.17951715e-01  2.06251800e-01  7.52622485e-02\n",
      " -2.00280905e-01 -3.09886727e-02  1.66488484e-01 -2.64253914e-01\n",
      "  9.57489535e-02  2.49779463e-01 -1.36825442e-01 -2.29181066e-01\n",
      "  1.69497743e-01 -1.23395503e-01 -3.29283141e-02  3.12215891e-02\n",
      "  1.09459251e-01 -3.09893727e-01 -5.99748343e-02 -5.47363311e-02\n",
      "  2.56937474e-01  2.66465873e-01 -3.32187146e-01 -2.13035762e-01\n",
      " -8.95697400e-02  6.57986701e-02  5.83009087e-02 -6.35137677e-01]\n",
      "tensor([0.7811])\n",
      "tensor([0.6251])\n",
      "tensor([0.5617])\n"
     ]
    }
   ],
   "source": [
    "def get_phrase_embedding(phrase, model):\n",
    "    words = phrase.split()\n",
    "    embeddings = [model[word] for word in words if word in model]\n",
    "    if len(embeddings) > 0:\n",
    "        return sum(embeddings) / len(embeddings)\n",
    "    else:\n",
    "        return None\n",
    "\n",
    "phrase1 = \"Ceruminous adenocarcinoma\"\n",
    "phrase1_embedding = get_phrase_embedding(phrase1, model)\n",
    "if phrase1_embedding is not None:\n",
    "    print(f\"Embedding for the phrase '{phrase1}':\\n{phrase1_embedding}\")\n",
    "else:\n",
    "    print(f\"No embeddings found for the phrase '{phrase1}'.\")\n",
    "phrase2 = \"Ceruminous adenoid cystic carcinoma\"\n",
    "phrase2_embedding = get_phrase_embedding(phrase2, model)\n",
    "if phrase2_embedding is not None:\n",
    "    print(f\"Embedding for the phrase '{phrase2}':\\n{phrase2_embedding}\")\n",
    "else:\n",
    "    print(f\"No embeddings found for the phrase '{phrase2}'.\")\n",
    "phrase3 = \"Ceruminous adenocarcinoma, NOS. An intact surface epithelium is subtended by an infiltrating biphasic neoplastic proliferation separated by dense fibrosis\"\n",
    "phrase3_embedding = get_phrase_embedding(phrase3, model)\n",
    "if phrase3_embedding is not None:\n",
    "    print(f\"Embedding for the phrase '{phrase3}':\\n{phrase3_embedding}\")\n",
    "else:\n",
    "    print(f\"No embeddings found for the phrase '{phrase3}'.\")\n",
    "phrase4 = \"Immunohistochemical staining with anti-papillomavirus antibody 16/18 reveals strong nuclear staining in numerous cells (10x)\"\n",
    "phrase4_embedding = get_phrase_embedding(phrase4, model)\n",
    "if phrase4_embedding is not None:\n",
    "    print(f\"Embedding for the phrase '{phrase4}':\\n{phrase4_embedding}\")\n",
    "else:\n",
    "    print(f\"No embeddings found for the phrase '{phrase4}'.\")\n",
    "\n",
    "print(cos_sim([phrase2_embedding], [phrase1_embedding]))\n",
    "print(cos_sim([phrase2_embedding], [phrase3_embedding]))\n",
    "print(cos_sim([phrase2_embedding], [phrase4_embedding]))"
   ]
  },
  {
   "cell_type": "code",
   "execution_count": 54,
   "metadata": {},
   "outputs": [],
   "source": [
    "# Get embeddings\n",
    "import json\n",
    "# Get data from json file\n",
    "with open('./bioWordVec_embeddings.json', 'r') as f:\n",
    "    bioWordVec_embeddings = json.load(f)"
   ]
  },
  {
   "cell_type": "code",
   "execution_count": 62,
   "metadata": {},
   "outputs": [],
   "source": [
    "# TopNCaptions\n",
    "# Given a query and the image data, find the n top related pathology images\n",
    "def nTopImages(query, embeddings=bioWordVec_embeddings, n=5):\n",
    "  query_embedding = get_phrase_embedding(query, model)\n",
    "  keys = [\"None\"]\n",
    "  evals = [0]\n",
    "  eval_scores = {}\n",
    "  for k in embeddings.keys():\n",
    "    # print(embedding[k])\n",
    "    # print(len(embeddings[k]))\n",
    "    # print(embeddings[k][\"caption\"])\n",
    "    # print(embeddings[k][\"caption_embedding\"])\n",
    "    eval = cos_sim([np.array(embeddings[k][\"caption_embedding\"])], [query_embedding])\n",
    "    # print(eval)\n",
    "    for i in range(min(len(evals), n)):\n",
    "      if eval > evals[i]:\n",
    "        evals.insert(i, eval)\n",
    "        keys.insert(i, k)\n",
    "        eval_scores[k] = eval\n",
    "        break\n",
    "  return keys[:n], eval_scores"
   ]
  },
  {
   "cell_type": "code",
   "execution_count": 75,
   "metadata": {},
   "outputs": [
    {
     "name": "stdout",
     "output_type": "stream",
     "text": [
      "Well differentiated endometrioid adenocarcinoma showing squamous metaplasia. Virtual Slide: http://diagnosticpathology.slidepath.com/dih/webViewer.php?snapshotId=1313178756\n",
      "tensor([0.8834], dtype=torch.float64)\n",
      "Histopathology showing well-differentiated squamous cell carcinoma (H&E stain, x100)\n",
      "tensor([0.8390], dtype=torch.float64)\n",
      "Classic papillary carcinoma H&E.\n",
      "tensor([0.8265], dtype=torch.float64)\n",
      "Classic papillary carcinoma CD56.\n",
      "tensor([0.8265], dtype=torch.float64)\n",
      "Classic papillary carcinoma P63.\n",
      "tensor([0.8265], dtype=torch.float64)\n",
      "Classic papillary carcinoma CK19.\n",
      "tensor([0.8265], dtype=torch.float64)\n",
      "Classic papillary carcinoma E-Cadherin.\n",
      "tensor([0.8265], dtype=torch.float64)\n",
      "Microscopic features of the resected uterus. The adenocarcinoma component The adenocarcinoma is endometrioid adenocarcinoma. The carcinoma is small with mild invasion. HE x50.\n",
      "tensor([0.8135], dtype=torch.float64)\n",
      "Bronchoscopy biopsy. Low differentiated adenocarcinoma with micropapillary component (arrow). (Hematoxylin-eosin, x100).\n",
      "tensor([0.7913], dtype=torch.float64)\n",
      "Zone with squamous cell carcinoma. HE x200.\n",
      "tensor([0.7910], dtype=torch.float64)\n"
     ]
    }
   ],
   "source": [
    "top_keys, eval_results = nTopImages(\"Endometrial adenocarcinoma\", bioWordVec_embeddings, 10)\n",
    "for key in top_keys:\n",
    "    print(bioWordVec_embeddings[key][\"caption\"])\n",
    "    print(eval_results.get(key))"
   ]
  },
  {
   "cell_type": "code",
   "execution_count": null,
   "metadata": {},
   "outputs": [
    {
     "name": "stdout",
     "output_type": "stream",
     "text": [
      "Lymphoepithelioma-like gastric carcinoma (LLC) on biopsy specimens. It is difficult to recognize the LLC in the biopsy specimens. In our case an outside diagnosis of poorly differentiated adenocarcinoma of the stomach was made, the diagnosis was also missed on the repeated biopsy in our institute too (HE Stain, Magnification 2.5X, insertion: PAS stain Magnification 20X).\n",
      "Microscopic finding of a carcinoma of neuroendocrine cells in the liver biopsy from case two. Tumor cells are clustered and composed of small cells with little cytoplasm, a high nucleo-cytoplasmic ratio, and dark nuclei with an irregular shape. The biopsy section was stained with hematoxylin-eosin and imaged at 400x. The image was adjusted in Photoshop to remove the pink background and increase the contrast, and the original image before adjustment is provided in Additional file 2: Figure S2\n",
      "The example of a well-differentiated neuroendocrine tumor resembling a solid-pseudopapillary neoplasm illustrated in Fig. 2 is tested with an immunohistochemical stain for synaptophysin, which shows diffuse strong staining supporting the diagnosis of a neuroendocrine tumor (peroxidase-anti-peroxidase).\n",
      "Low magnification showing a diffuse infiltration of atypical lymphoid cells in the thyroid gland (haematoxylin & eosin stain, x50)\n",
      "Haematoxylin and eosin stained section showing the tumour infiltrating around and into the epididymal tubules, which themselves show no in situ neoplastic change.\n"
     ]
    }
   ],
   "source": []
  },
  {
   "cell_type": "code",
   "execution_count": 48,
   "metadata": {},
   "outputs": [],
   "source": [
    "# Preprocessing Embeddings\n",
    "import json\n",
    "# Get data from json file\n",
    "with open('./pubmed_captions.json', 'r') as f:\n",
    "    captions = json.load(f)"
   ]
  },
  {
   "cell_type": "code",
   "execution_count": 52,
   "metadata": {},
   "outputs": [],
   "source": [
    "newdata={}\n",
    "for k in captions.keys():\n",
    "    embedding = get_phrase_embedding(captions[k], model)\n",
    "    # if embedding is None:\n",
    "    #     print(\"None: \", captions[k])\n",
    "    if embedding is not None:\n",
    "        newdata[k]={\n",
    "            \"caption\": captions[k],\n",
    "            \"caption_embedding\": embedding.tolist(),\n",
    "        }"
   ]
  },
  {
   "cell_type": "code",
   "execution_count": 53,
   "metadata": {},
   "outputs": [],
   "source": [
    "# create new file with embeddings\n",
    "with open('bioWordVec_embeddings.json', 'w') as f:\n",
    "    json.dump(newdata, f, indent=4)"
   ]
  }
 ],
 "metadata": {
  "kernelspec": {
   "display_name": ".bioSentVec",
   "language": "python",
   "name": "python3"
  },
  "language_info": {
   "codemirror_mode": {
    "name": "ipython",
    "version": 3
   },
   "file_extension": ".py",
   "mimetype": "text/x-python",
   "name": "python",
   "nbconvert_exporter": "python",
   "pygments_lexer": "ipython3",
   "version": "3.11.5"
  }
 },
 "nbformat": 4,
 "nbformat_minor": 2
}
